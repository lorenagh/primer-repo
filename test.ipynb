{
 "cells": [
  {
   "cell_type": "code",
   "execution_count": 2,
   "id": "a496a938",
   "metadata": {},
   "outputs": [],
   "source": [
    "# mi primer repo"
   ]
  },
  {
   "cell_type": "code",
   "execution_count": 3,
   "id": "f9d591e3",
   "metadata": {},
   "outputs": [
    {
     "name": "stdout",
     "output_type": "stream",
     "text": [
      "Holi, ¿qué tal?\n"
     ]
    }
   ],
   "source": [
    "print('Holi, ¿qué tal?')"
   ]
  },
  {
   "cell_type": "code",
   "execution_count": null,
   "id": "020d08b3",
   "metadata": {},
   "outputs": [],
   "source": []
  }
 ],
 "metadata": {
  "kernelspec": {
   "display_name": "Python 3",
   "language": "python",
   "name": "python3"
  },
  "language_info": {
   "codemirror_mode": {
    "name": "ipython",
    "version": 3
   },
   "file_extension": ".py",
   "mimetype": "text/x-python",
   "name": "python",
   "nbconvert_exporter": "python",
   "pygments_lexer": "ipython3",
   "version": "3.7.6"
  }
 },
 "nbformat": 4,
 "nbformat_minor": 5
}
