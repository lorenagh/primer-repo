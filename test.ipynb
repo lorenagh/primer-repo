{
 "cells": [
  {
   "cell_type": "markdown",
   "id": "3a497291",
   "metadata": {},
   "source": [
    "# mi primer repo"
   ]
  },
  {
   "cell_type": "code",
   "execution_count": 3,
   "id": "1a26fee9",
   "metadata": {},
   "outputs": [
    {
     "name": "stdout",
     "output_type": "stream",
     "text": [
      "Holi, ¿qué tal?\n"
     ]
    }
   ],
   "source": [
    "print('Holi, ¿qué tal?')"
   ]
  },
  {
   "cell_type": "code",
   "execution_count": 4,
   "id": "b575ad52",
   "metadata": {},
   "outputs": [
    {
     "name": "stdout",
     "output_type": "stream",
     "text": [
      " esto es interesante \n"
     ]
    }
   ],
   "source": [
    "print(' esto es interesante ')"
   ]
  },
  {
   "cell_type": "markdown",
   "id": "cb0284e9",
   "metadata": {},
   "source": [
    "### ¿y si sumamos 1+1?"
   ]
  },
  {
   "cell_type": "code",
   "execution_count": 7,
   "id": "b20bffb0",
   "metadata": {},
   "outputs": [
    {
     "data": {
      "text/plain": [
       "2"
      ]
     },
     "execution_count": 7,
     "metadata": {},
     "output_type": "execute_result"
    }
   ],
   "source": [
    "a = 1+1\n",
    "a"
   ]
  },
  {
   "cell_type": "code",
   "execution_count": null,
   "id": "53bbaa43",
   "metadata": {},
   "outputs": [],
   "source": []
  }
 ],
 "metadata": {
  "kernelspec": {
   "display_name": "Python 3",
   "language": "python",
   "name": "python3"
  },
  "language_info": {
   "codemirror_mode": {
    "name": "ipython",
    "version": 3
   },
   "file_extension": ".py",
   "mimetype": "text/x-python",
   "name": "python",
   "nbconvert_exporter": "python",
   "pygments_lexer": "ipython3",
   "version": "3.7.6"
  }
 },
 "nbformat": 4,
 "nbformat_minor": 5
}
