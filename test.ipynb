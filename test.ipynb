{
 "cells": [
  {
   "cell_type": "markdown",
   "id": "8a53522f",
   "metadata": {},
   "source": [
    "# mi primer repo"
   ]
  },
  {
   "cell_type": "code",
   "execution_count": 3,
   "id": "48b744c4",
   "metadata": {},
   "outputs": [
    {
     "name": "stdout",
     "output_type": "stream",
     "text": [
      "Holi, ¿qué tal?\n"
     ]
    }
   ],
   "source": [
    "print('Holi, ¿qué tal?')"
   ]
  },
  {
   "cell_type": "code",
   "execution_count": 4,
   "id": "0835993a",
   "metadata": {},
   "outputs": [
    {
     "name": "stdout",
     "output_type": "stream",
     "text": [
      " esto es interesante \n"
     ]
    }
   ],
   "source": [
    "print(' esto es interesante ')"
   ]
  },
  {
   "cell_type": "markdown",
   "id": "246eecdc",
   "metadata": {},
   "source": [
    "# y si sumamos"
   ]
  },
  {
   "cell_type": "code",
   "execution_count": 7,
   "id": "da5e5220",
   "metadata": {},
   "outputs": [
    {
     "data": {
      "text/plain": [
       "2"
      ]
     },
     "execution_count": 7,
     "metadata": {},
     "output_type": "execute_result"
    }
   ],
   "source": [
    "a = 1+1\n",
    "a"
   ]
  },
  {
   "cell_type": "code",
   "execution_count": null,
   "id": "dbc336e3",
   "metadata": {},
   "outputs": [],
   "source": []
  }
 ],
 "metadata": {
  "kernelspec": {
   "display_name": "Python 3",
   "language": "python",
   "name": "python3"
  },
  "language_info": {
   "codemirror_mode": {
    "name": "ipython",
    "version": 3
   },
   "file_extension": ".py",
   "mimetype": "text/x-python",
   "name": "python",
   "nbconvert_exporter": "python",
   "pygments_lexer": "ipython3",
   "version": "3.7.6"
  }
 },
 "nbformat": 4,
 "nbformat_minor": 5
}
