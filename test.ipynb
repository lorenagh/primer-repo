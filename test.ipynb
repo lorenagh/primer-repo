{
 "cells": [
  {
   "cell_type": "markdown",
   "id": "7f68941b",
   "metadata": {},
   "source": [
    "# mi primer repo"
   ]
  },
  {
   "cell_type": "code",
   "execution_count": 3,
   "id": "cab230a6",
   "metadata": {},
   "outputs": [
    {
     "name": "stdout",
     "output_type": "stream",
     "text": [
      "Holi, ¿qué tal?\n"
     ]
    }
   ],
   "source": [
    "print('Holi, ¿qué tal?')"
   ]
  },
  {
   "cell_type": "code",
   "execution_count": 4,
   "id": "07b79159",
   "metadata": {},
   "outputs": [
    {
     "name": "stdout",
     "output_type": "stream",
     "text": [
      " esto es interesante \n"
     ]
    }
   ],
   "source": [
    "print(' esto es interesante ')"
   ]
  },
  {
   "cell_type": "markdown",
   "id": "7eb8956b",
   "metadata": {},
   "source": [
    "### ¿y si sumamos 1+1?"
   ]
  },
  {
   "cell_type": "code",
   "execution_count": 8,
   "id": "6672a73d",
   "metadata": {},
   "outputs": [
    {
     "data": {
      "text/plain": [
       "2"
      ]
     },
     "execution_count": 8,
     "metadata": {},
     "output_type": "execute_result"
    }
   ],
   "source": [
    "a = 1+1\n",
    "a"
   ]
  },
  {
   "cell_type": "markdown",
   "id": "ca6269ca",
   "metadata": {},
   "source": [
    "## Lectura de catálogo"
   ]
  },
  {
   "cell_type": "code",
   "execution_count": 1,
   "id": "0458bd49",
   "metadata": {},
   "outputs": [
    {
     "name": "stdout",
     "output_type": "stream",
     "text": [
      "                 NAME    X_image    Y_image      R2     Ar     Aa      z  \\\n",
      "0    SPT-CLJ0002-5557  3042.4475  3282.5007   885.0  0.011  0.037  1.140   \n",
      "1    SPT-CLJ0005-3751  3285.6277  4464.7979  1210.0  0.011  0.037  0.483   \n",
      "2    SPT-CLJ0013-4906  4808.7000  3216.9000  1336.0  0.008  0.028  0.406   \n",
      "3    SPT-CLJ0037-5047  4288.1343  3088.8669   903.0  0.011  0.038  1.026   \n",
      "4    SPT-CLJ0049-2440  3252.9470  4854.1201  1156.0  0.016  0.053  0.527   \n",
      "..                ...        ...        ...     ...    ...    ...    ...   \n",
      "110  SPT-CLJ2258-4044  3149.9038  3274.2014   956.0  0.010  0.034  0.830   \n",
      "111  SPT-CLJ2305-2248  4403.2866  3142.7026  1016.0  0.028  0.096  0.700   \n",
      "112  SPT-CLJ2306-5120  4824.4419  4097.5552   872.0  0.010  0.033  1.270   \n",
      "113  SPT-CLJ2318-3513  4782.3481  4148.8535   913.0  0.016  0.054  0.980   \n",
      "114  SPT-CLJ2345-6405  1994.2739  3007.2754   922.0  0.021  0.072  0.940   \n",
      "\n",
      "       e_z      dL      dL/10pc         DM   pend  intercept  kcorr_f110  \\\n",
      "0    0.080  7992.6  799260000.0  44.513440  1.096     -0.002    0.380541   \n",
      "1    0.007  2808.5  280850000.0  42.242372  1.055     -0.006   -0.001511   \n",
      "2    0.000  2286.0  228600000.0  41.795381  1.086     -0.007   -0.036402   \n",
      "3    0.000  7020.1  702010000.0  44.231716  1.064     -0.001    0.288030   \n",
      "4    0.006  3117.2  311720000.0  42.468823  1.077     -0.008    0.020562   \n",
      "..     ...     ...          ...        ...    ...        ...         ...   \n",
      "110  0.070  5410.5  541050000.0  43.666187  1.065      0.005    0.168861   \n",
      "111  0.040  4393.7  439370000.0  43.214152  1.067     -0.005    0.104891   \n",
      "112  0.100  9129.4  912940000.0  44.802211  1.094     -0.004    0.494137   \n",
      "113  0.070  6634.9  663490000.0  44.109172  1.006      0.026    0.257574   \n",
      "114  0.070  6303.5  630350000.0  43.997909  1.056      0.002    0.236281   \n",
      "\n",
      "     kcorr_f200  n_rs  slopefit  Unnamed: 17  \n",
      "0      2.398105     5 -0.066971          NaN  \n",
      "1      0.849600     3 -0.061682          NaN  \n",
      "2      0.696717     4 -0.061062          NaN  \n",
      "3      2.103593     1 -0.066053          NaN  \n",
      "4      0.940313     1 -0.062036          NaN  \n",
      "..          ...   ...       ...          ...  \n",
      "110    1.626089     3 -0.064476          NaN  \n",
      "111    1.322212     3 -0.063429          NaN  \n",
      "112    2.735818     6 -0.068018          NaN  \n",
      "113    1.988993     2 -0.065683          NaN  \n",
      "114    1.890609     4 -0.065361          NaN  \n",
      "\n",
      "[115 rows x 18 columns]\n"
     ]
    }
   ],
   "source": [
    "import pandas as pd\n",
    "\n",
    "df = pd.read_table('/home/lorena/Documentos/INVESTIGACION/catalogos/cat-final3.2.txt',sep = ' ')\n",
    "print(df)"
   ]
  },
  {
   "cell_type": "code",
   "execution_count": 2,
   "id": "c48f24a8",
   "metadata": {},
   "outputs": [
    {
     "name": "stdout",
     "output_type": "stream",
     "text": [
      "<class 'pandas.core.frame.DataFrame'>\n",
      "RangeIndex: 115 entries, 0 to 114\n",
      "Data columns (total 18 columns):\n",
      " #   Column       Non-Null Count  Dtype  \n",
      "---  ------       --------------  -----  \n",
      " 0   NAME         115 non-null    object \n",
      " 1   X_image      115 non-null    float64\n",
      " 2   Y_image      115 non-null    float64\n",
      " 3   R2           115 non-null    float64\n",
      " 4   Ar           115 non-null    float64\n",
      " 5   Aa           115 non-null    float64\n",
      " 6   z            115 non-null    float64\n",
      " 7   e_z          115 non-null    float64\n",
      " 8   dL           115 non-null    float64\n",
      " 9   dL/10pc      115 non-null    float64\n",
      " 10  DM           115 non-null    float64\n",
      " 11  pend         115 non-null    float64\n",
      " 12  intercept    115 non-null    float64\n",
      " 13  kcorr_f110   115 non-null    float64\n",
      " 14  kcorr_f200   115 non-null    float64\n",
      " 15  n_rs         115 non-null    int64  \n",
      " 16  slopefit     115 non-null    float64\n",
      " 17  Unnamed: 17  0 non-null      float64\n",
      "dtypes: float64(16), int64(1), object(1)\n",
      "memory usage: 16.3+ KB\n"
     ]
    }
   ],
   "source": [
    "df.info()"
   ]
  },
  {
   "cell_type": "code",
   "execution_count": null,
   "id": "091c70d3",
   "metadata": {},
   "outputs": [],
   "source": []
  }
 ],
 "metadata": {
  "kernelspec": {
   "display_name": "Python 3",
   "language": "python",
   "name": "python3"
  },
  "language_info": {
   "codemirror_mode": {
    "name": "ipython",
    "version": 3
   },
   "file_extension": ".py",
   "mimetype": "text/x-python",
   "name": "python",
   "nbconvert_exporter": "python",
   "pygments_lexer": "ipython3",
   "version": "3.7.6"
  }
 },
 "nbformat": 4,
 "nbformat_minor": 5
}
